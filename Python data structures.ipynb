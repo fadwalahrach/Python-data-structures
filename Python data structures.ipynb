{
 "cells": [
  {
   "cell_type": "markdown",
   "id": "0e6e5fb2",
   "metadata": {},
   "source": [
    "# Question1: \n",
    "\n",
    "Write a Python program to multiplies all the items in a list.\n",
    "\n",
    "for example list=[2, 3, 6]\n",
    "\n",
    "result = 36"
   ]
  },
  {
   "cell_type": "code",
   "execution_count": 5,
   "id": "2aefb64f",
   "metadata": {},
   "outputs": [
    {
     "name": "stdout",
     "output_type": "stream",
     "text": [
      "result =  36\n"
     ]
    }
   ],
   "source": [
    "l=[2,3,6]\n",
    "r=1\n",
    "for i in range(len(l)):\n",
    "    r= r * l[i]\n",
    "print(\"result = \", r)"
   ]
  },
  {
   "cell_type": "markdown",
   "id": "09adb22d",
   "metadata": {},
   "source": [
    "# Question2:\n",
    "\n",
    "Write a Python program to get a list, sorted in increasing order by the last element in each tuple from a given list of non-empty tuples.\n",
    "\n",
    "Sample List : [(2, 5), (1, 2), (4, 4), (2, 3), (2, 1)]\n",
    "Expected Result : [(2, 1), (1, 2), (2, 3), (4, 4), (2, 5)]\n",
    "\n",
    "Hint: You can use sort function"
   ]
  },
  {
   "cell_type": "code",
   "execution_count": 27,
   "id": "7a50d273",
   "metadata": {},
   "outputs": [
    {
     "data": {
      "text/plain": [
       "[(2, 1), (1, 2), (2, 3), (4, 4), (2, 5)]"
      ]
     },
     "execution_count": 27,
     "metadata": {},
     "output_type": "execute_result"
    }
   ],
   "source": [
    "l=[(2, 5), (1, 2), (4, 4), (2, 3), (2, 1)] \n",
    "l.sort(key= lambda x:x[-1])\n",
    "l"
   ]
  },
  {
   "cell_type": "markdown",
   "id": "993e9d89",
   "metadata": {},
   "source": [
    "# Question3: \n",
    "\n",
    "Write a Python program to combine two dictionary adding values for common keys.\n",
    "\n",
    "d1 = {'a': 100, 'b': 200, 'c':300}\n",
    "d2 = {'a': 300, 'b': 200, 'd':400}\n",
    "Expected output: {'a': 400, 'b': 400, 'd': 400, 'c': 300}"
   ]
  },
  {
   "cell_type": "code",
   "execution_count": 21,
   "id": "f34dcda6",
   "metadata": {},
   "outputs": [
    {
     "name": "stdout",
     "output_type": "stream",
     "text": [
      "{'a': 400, 'b': 400, 'd': 400, 'c': 300}\n"
     ]
    }
   ],
   "source": [
    "def my_func(d1,d2):\n",
    "    my_dic={}\n",
    "    for i in d1.keys():\n",
    "        if i in d2.keys():\n",
    "            for j in d2.keys():\n",
    "                if j in d1.keys():\n",
    "                    my_dic[j] = d1[j] + d2[j]\n",
    "                else:\n",
    "                    my_dic[j] = d2[j]\n",
    "        else:\n",
    "            my_dic[i] = d1[i]\n",
    "    return my_dic\n",
    "\n",
    "print(my_func({'a': 100, 'b': 200, 'c':300}, {'a': 300, 'b': 200, 'd':400}))"
   ]
  },
  {
   "cell_type": "markdown",
   "id": "793a8202",
   "metadata": {},
   "source": [
    "# Question 4\n",
    "\n",
    "Question: With a given integral number n, write a program to generate a dictionary that contains (i, i*i) such that is an integral number between 1 and n (both included). and then the program should print the dictionary. Suppose the following input is supplied to the program: 8 Then, the output should be: {1: 1, 2: 4, 3: 9, 4: 16, 5: 25, 6: 36, 7: 49, 8: 64}"
   ]
  },
  {
   "cell_type": "code",
   "execution_count": 28,
   "id": "c5ee21c6",
   "metadata": {},
   "outputs": [
    {
     "name": "stdout",
     "output_type": "stream",
     "text": [
      "{1: 1, 2: 4, 3: 9, 4: 16, 5: 25, 6: 36, 7: 49, 8: 64}\n"
     ]
    }
   ],
   "source": [
    "def my_func(n):\n",
    "    my_dic={}\n",
    "    for i in range(1,n+1):\n",
    "        my_dic[i] = i * i\n",
    "    return my_dic\n",
    "print(my_func(8))"
   ]
  },
  {
   "cell_type": "markdown",
   "id": "069740b4",
   "metadata": {},
   "source": [
    "# Question 5: \n",
    "\n",
    "Write a program to sort a tuple by its float element.\n",
    "For example list= [('item1', '12.20'), ('item2', '15.10'), ('item3', '24.5')]\n",
    "Expected Output: [('item3', '24.5'), ('item2', '15.10'), ('item1', '12.20')]"
   ]
  },
  {
   "cell_type": "code",
   "execution_count": 30,
   "id": "961561a7",
   "metadata": {},
   "outputs": [
    {
     "data": {
      "text/plain": [
       "[('item3', '24.5'), ('item2', '15.10'), ('item1', '12.20')]"
      ]
     },
     "execution_count": 30,
     "metadata": {},
     "output_type": "execute_result"
    }
   ],
   "source": [
    "l=[('item1', '12.20'), ('item2', '15.10'), ('item3', '24.5')] \n",
    "l.sort(key= lambda x:float(x[-1]), reverse=True)\n",
    "l"
   ]
  }
 ],
 "metadata": {
  "kernelspec": {
   "display_name": "Python 3 (ipykernel)",
   "language": "python",
   "name": "python3"
  },
  "language_info": {
   "codemirror_mode": {
    "name": "ipython",
    "version": 3
   },
   "file_extension": ".py",
   "mimetype": "text/x-python",
   "name": "python",
   "nbconvert_exporter": "python",
   "pygments_lexer": "ipython3",
   "version": "3.9.7"
  }
 },
 "nbformat": 4,
 "nbformat_minor": 5
}
